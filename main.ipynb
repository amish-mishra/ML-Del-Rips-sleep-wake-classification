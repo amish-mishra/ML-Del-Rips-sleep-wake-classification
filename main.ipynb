{
 "cells": [
  {
   "cell_type": "markdown",
   "metadata": {},
   "source": [
    "# Applicability of training ML model with TDA using Delaunay-Rips complex vs. using Rips vs. using Alpha\n",
    "Author: Amish Mishra  \n",
    "Date: November 1, 2022\n",
    "\n",
    "## Notes\n",
    "* We will use DR for \"Delaunay-Rips\"\n",
    "* We will refer to the pipeline that uses DR, Rips, or Alpha for training/validating the corresponding ML model as the \"DR method\", \"Rips method\", or \"Alpha method\", respectively.\n",
    "* Rename folders with 1, 2, 3,... ahead of them to show what order they are used in"
   ]
  },
  {
   "cell_type": "markdown",
   "metadata": {},
   "source": [
    "## Import the necessary libraries"
   ]
  },
  {
   "cell_type": "code",
   "execution_count": 1,
   "metadata": {},
   "outputs": [
    {
     "name": "stdout",
     "output_type": "stream",
     "text": [
      "Collecting git+https://github.com/amish-mishra/cechmate_DR.git\n",
      "  Cloning https://github.com/amish-mishra/cechmate_DR.git to /tmp/pip-req-build-g4mn1vcp\n",
      "Requirement already satisfied (use --upgrade to upgrade): cechmate==0.1.0 from git+https://github.com/amish-mishra/cechmate_DR.git in /home/amishra/anaconda3/envs/del_rips_sleep_wake_classification/lib/python3.8/site-packages\n",
      "Requirement already satisfied: scipy in /home/amishra/anaconda3/envs/del_rips_sleep_wake_classification/lib/python3.8/site-packages (from cechmate==0.1.0) (1.5.2)\n",
      "Requirement already satisfied: numpy in /home/amishra/anaconda3/envs/del_rips_sleep_wake_classification/lib/python3.8/site-packages (from cechmate==0.1.0) (1.19.5)\n",
      "Requirement already satisfied: matplotlib in /home/amishra/anaconda3/envs/del_rips_sleep_wake_classification/lib/python3.8/site-packages (from cechmate==0.1.0) (3.1.3)\n",
      "Requirement already satisfied: phat>=1.5.0a0 in /home/amishra/anaconda3/envs/del_rips_sleep_wake_classification/lib/python3.8/site-packages (from cechmate==0.1.0) (1.5.0)\n",
      "Requirement already satisfied: persim in /home/amishra/anaconda3/envs/del_rips_sleep_wake_classification/lib/python3.8/site-packages (from cechmate==0.1.0) (0.3.1)\n",
      "Requirement already satisfied: python-dateutil>=2.1 in /home/amishra/.local/lib/python3.8/site-packages (from matplotlib->cechmate==0.1.0) (2.8.2)\n",
      "Requirement already satisfied: pyparsing!=2.0.4,!=2.1.2,!=2.1.6,>=2.0.1 in /home/amishra/.local/lib/python3.8/site-packages (from matplotlib->cechmate==0.1.0) (3.0.9)\n",
      "Requirement already satisfied: kiwisolver>=1.0.1 in /home/amishra/anaconda3/envs/del_rips_sleep_wake_classification/lib/python3.8/site-packages (from matplotlib->cechmate==0.1.0) (1.4.4)\n",
      "Requirement already satisfied: cycler>=0.10 in /home/amishra/anaconda3/envs/del_rips_sleep_wake_classification/lib/python3.8/site-packages (from matplotlib->cechmate==0.1.0) (0.11.0)\n",
      "Requirement already satisfied: pybind11 in /home/amishra/.local/lib/python3.8/site-packages (from phat>=1.5.0a0->cechmate==0.1.0) (2.10.1)\n",
      "Requirement already satisfied: joblib in /home/amishra/anaconda3/envs/del_rips_sleep_wake_classification/lib/python3.8/site-packages (from persim->cechmate==0.1.0) (1.2.0)\n",
      "Requirement already satisfied: hopcroftkarp in /home/amishra/anaconda3/envs/del_rips_sleep_wake_classification/lib/python3.8/site-packages (from persim->cechmate==0.1.0) (1.2.5)\n",
      "Requirement already satisfied: deprecated in /home/amishra/anaconda3/envs/del_rips_sleep_wake_classification/lib/python3.8/site-packages (from persim->cechmate==0.1.0) (1.2.13)\n",
      "Requirement already satisfied: scikit-learn in /home/amishra/anaconda3/envs/del_rips_sleep_wake_classification/lib/python3.8/site-packages (from persim->cechmate==0.1.0) (1.1.3)\n",
      "Requirement already satisfied: six>=1.5 in /home/amishra/anaconda3/envs/del_rips_sleep_wake_classification/lib/python3.8/site-packages (from python-dateutil>=2.1->matplotlib->cechmate==0.1.0) (1.16.0)\n",
      "Requirement already satisfied: wrapt<2,>=1.10 in /home/amishra/anaconda3/envs/del_rips_sleep_wake_classification/lib/python3.8/site-packages (from deprecated->persim->cechmate==0.1.0) (1.14.1)\n",
      "Requirement already satisfied: threadpoolctl>=2.0.0 in /home/amishra/anaconda3/envs/del_rips_sleep_wake_classification/lib/python3.8/site-packages (from scikit-learn->persim->cechmate==0.1.0) (3.1.0)\n",
      "Building wheels for collected packages: cechmate\n",
      "  Building wheel for cechmate (setup.py) ... \u001b[?25ldone\n",
      "\u001b[?25h  Created wheel for cechmate: filename=cechmate-0.1.0-py3-none-any.whl size=25699 sha256=d1b65a114783857f31ed30b8ef61734723a886c9ad97039bed5624c273f5b437\n",
      "  Stored in directory: /tmp/pip-ephem-wheel-cache-gpkhmimr/wheels/95/7a/b2/9a6ca1ac9896cacb6226d881ec1e4ec562da85b744d83c210c\n",
      "Successfully built cechmate\n",
      "Note: you may need to restart the kernel to use updated packages.\n"
     ]
    }
   ],
   "source": [
    "%pip install git+https://github.com/amish-mishra/cechmate_DR.git"
   ]
  },
  {
   "cell_type": "code",
   "execution_count": 3,
   "metadata": {},
   "outputs": [
    {
     "ename": "ValueError",
     "evalue": "numpy.ndarray size changed, may indicate binary incompatibility. Expected 96 from C header, got 80 from PyObject",
     "output_type": "error",
     "traceback": [
      "\u001b[0;31m---------------------------------------------------------------------------\u001b[0m",
      "\u001b[0;31mValueError\u001b[0m                                Traceback (most recent call last)",
      "Cell \u001b[0;32mIn [3], line 8\u001b[0m\n\u001b[1;32m      6\u001b[0m \u001b[38;5;28;01mimport\u001b[39;00m \u001b[38;5;21;01mcechmate\u001b[39;00m \u001b[38;5;28;01mas\u001b[39;00m \u001b[38;5;21;01mcm\u001b[39;00m\n\u001b[1;32m      7\u001b[0m \u001b[38;5;28;01mimport\u001b[39;00m \u001b[38;5;21;01mmatplotlib\u001b[39;00m\u001b[38;5;21;01m.\u001b[39;00m\u001b[38;5;21;01mpyplot\u001b[39;00m \u001b[38;5;28;01mas\u001b[39;00m \u001b[38;5;21;01mplt\u001b[39;00m\n\u001b[0;32m----> 8\u001b[0m \u001b[38;5;28;01mfrom\u001b[39;00m \u001b[38;5;21;01mripser\u001b[39;00m \u001b[38;5;28;01mimport\u001b[39;00m ripser\n\u001b[1;32m      9\u001b[0m \u001b[38;5;28;01mfrom\u001b[39;00m \u001b[38;5;21;01msklearn\u001b[39;00m\u001b[38;5;21;01m.\u001b[39;00m\u001b[38;5;21;01msvm\u001b[39;00m \u001b[38;5;28;01mimport\u001b[39;00m SVC\n\u001b[1;32m     10\u001b[0m \u001b[38;5;28;01mfrom\u001b[39;00m \u001b[38;5;21;01mscipy\u001b[39;00m \u001b[38;5;28;01mimport\u001b[39;00m stats\n",
      "File \u001b[0;32m~/anaconda3/envs/del_rips_sleep_wake_classification/lib/python3.8/site-packages/ripser/__init__.py:1\u001b[0m\n\u001b[0;32m----> 1\u001b[0m \u001b[38;5;28;01mfrom\u001b[39;00m \u001b[38;5;21;01m.\u001b[39;00m\u001b[38;5;21;01mripser\u001b[39;00m \u001b[38;5;28;01mimport\u001b[39;00m \u001b[38;5;241m*\u001b[39m\n\u001b[1;32m      3\u001b[0m \u001b[38;5;28;01mfrom\u001b[39;00m \u001b[38;5;21;01m.\u001b[39;00m\u001b[38;5;21;01m_version\u001b[39;00m \u001b[38;5;28;01mimport\u001b[39;00m __version__\n",
      "File \u001b[0;32m~/anaconda3/envs/del_rips_sleep_wake_classification/lib/python3.8/site-packages/ripser/ripser.py:34\u001b[0m\n\u001b[1;32m     31\u001b[0m \u001b[38;5;28;01mfrom\u001b[39;00m \u001b[38;5;21;01msklearn\u001b[39;00m\u001b[38;5;21;01m.\u001b[39;00m\u001b[38;5;21;01mbase\u001b[39;00m \u001b[38;5;28;01mimport\u001b[39;00m TransformerMixin\n\u001b[1;32m     32\u001b[0m \u001b[38;5;28;01mfrom\u001b[39;00m \u001b[38;5;21;01msklearn\u001b[39;00m\u001b[38;5;21;01m.\u001b[39;00m\u001b[38;5;21;01mmetrics\u001b[39;00m\u001b[38;5;21;01m.\u001b[39;00m\u001b[38;5;21;01mpairwise\u001b[39;00m \u001b[38;5;28;01mimport\u001b[39;00m pairwise_distances\n\u001b[0;32m---> 34\u001b[0m \u001b[38;5;28;01mfrom\u001b[39;00m \u001b[38;5;21;01mpyRipser\u001b[39;00m \u001b[38;5;28;01mimport\u001b[39;00m doRipsFiltrationDM \u001b[38;5;28;01mas\u001b[39;00m DRFDM\n\u001b[1;32m     35\u001b[0m \u001b[38;5;28;01mfrom\u001b[39;00m \u001b[38;5;21;01mpyRipser\u001b[39;00m \u001b[38;5;28;01mimport\u001b[39;00m doRipsFiltrationDMSparse \u001b[38;5;28;01mas\u001b[39;00m DRFDMSparse\n\u001b[1;32m     38\u001b[0m \u001b[38;5;28;01mdef\u001b[39;00m \u001b[38;5;21mdpoint2pointcloud\u001b[39m(X, i, metric):\n",
      "File \u001b[0;32mripser/pyRipser.pyx:1\u001b[0m, in \u001b[0;36minit pyRipser\u001b[0;34m()\u001b[0m\n",
      "\u001b[0;31mValueError\u001b[0m: numpy.ndarray size changed, may indicate binary incompatibility. Expected 96 from C header, got 80 from PyObject"
     ]
    }
   ],
   "source": [
    "import os\n",
    "import time\n",
    "import pandas\n",
    "import pickle\n",
    "import numpy as np\n",
    "import cechmate as cm\n",
    "import matplotlib.pyplot as plt\n",
    "from ripser import ripser\n",
    "from sklearn.svm import SVC\n",
    "from scipy import stats\n",
    "from sklearn import metrics\n",
    "from scipy.stats import median_test\n",
    "from persistence_stats import generate_training_validation_pers_stats\n",
    "from train_ml_classifiers import train_ml_classifiers\n",
    "from validate_ml_classifiers import validate_ml_classifiers"
   ]
  },
  {
   "cell_type": "markdown",
   "metadata": {},
   "source": [
    "## 1. Generate Persistence Statistics from Persistence Diagrams using DR, Rips, and Alpha"
   ]
  },
  {
   "cell_type": "code",
   "execution_count": null,
   "metadata": {},
   "outputs": [],
   "source": [
    "types = ['Training', 'Validation']\n",
    "methods = ['rips', 'alpha', 'del_rips']\n",
    "for t in types:\n",
    "    for m in methods:\n",
    "        generate_training_validation_pers_stats(type_of_data=t, method=m, verbose=False)"
   ]
  },
  {
   "cell_type": "markdown",
   "metadata": {},
   "source": [
    "## 2. Train ML models (SVM) based on Persistence Statistics"
   ]
  },
  {
   "cell_type": "code",
   "execution_count": null,
   "metadata": {},
   "outputs": [],
   "source": [
    "func_arr = ['rips', 'alpha', 'del_rips']\n",
    "for func in func_arr:\n",
    "    train_ml_classifiers(func)"
   ]
  },
  {
   "cell_type": "markdown",
   "metadata": {},
   "source": [
    "## 3. Validate ML models"
   ]
  },
  {
   "cell_type": "code",
   "execution_count": null,
   "metadata": {},
   "outputs": [],
   "source": [
    "func_arr = ['rips', 'alpha', 'del_rips']\n",
    "for func in func_arr:\n",
    "    validate_ml_classifiers(func)"
   ]
  },
  {
   "cell_type": "markdown",
   "metadata": {},
   "source": [
    "## 4. Generate performance metrics"
   ]
  },
  {
   "cell_type": "markdown",
   "metadata": {},
   "source": [
    "### Calculate the median and IQR for each method's performance metrics table"
   ]
  },
  {
   "cell_type": "code",
   "execution_count": null,
   "metadata": {},
   "outputs": [],
   "source": [
    "func_arr = ['rips', 'alpha', 'del_rips']\n",
    "all_perf_stats_by_func = {'rips':0, 'alpha':0, 'del_rips':0}\n",
    "\n",
    "for func in func_arr:\n",
    "    print(f'========== {func} performance ==========')\n",
    "    perf_metrics = pandas.read_pickle(\n",
    "        f'performance_metrics_tables/perf_metrics_{func}_svm_classifier.pkl')\n",
    "    summary_metrics = pandas.DataFrame({'median':[], 'iqr':[]})\n",
    "    # print(perf_metrics)\n",
    "    summary_metrics['median'] = perf_metrics.median(axis=1)\n",
    "    quantile_75 = perf_metrics.quantile(0.75, axis=1)\n",
    "    quantile_25 = perf_metrics.quantile(0.25, axis=1)\n",
    "    summary_metrics['iqr'] = quantile_75 - quantile_25\n",
    "    relavant_summary_metrics = summary_metrics.iloc[4:] # The median and IQR of the confusion matrix elements are not relevant\n",
    "    all_perf_stats_by_func[func] = perf_metrics.iloc[4:]\n",
    "    print(relavant_summary_metrics)"
   ]
  },
  {
   "cell_type": "markdown",
   "metadata": {},
   "source": [
    "### Perform a row-by-row median test pairwise between DR method, Rips method, and Alpha method"
   ]
  },
  {
   "cell_type": "code",
   "execution_count": null,
   "metadata": {},
   "outputs": [],
   "source": [
    "p_val_df = pandas.DataFrame({'p-value for rips vs alpha':[], 'p-value for rips vs del-rips':[],'p-value for alpha vs del-rips':[]})\n",
    "for idx, row in all_perf_stats_by_func['rips'].iterrows():\n",
    "    rips_row = all_perf_stats_by_func['rips'].loc[[idx]].values[0]\n",
    "    alpha_row = all_perf_stats_by_func['alpha'].loc[[idx]].values[0]\n",
    "    del_rips_row = all_perf_stats_by_func['del_rips'].loc[[idx]].values[0]\n",
    "    _, p_r_a, _, _ = median_test(rips_row, alpha_row)\n",
    "    _, p_r_d, _, _ = median_test(rips_row, del_rips_row)\n",
    "    _, p_a_d, _, _ = median_test(alpha_row, del_rips_row)\n",
    "    p_val_df.loc[len(p_val_df.index)] = [p_r_a, p_r_d, p_a_d]\n",
    "p_val_df.index = all_perf_stats_by_func['rips'].index"
   ]
  },
  {
   "cell_type": "code",
   "execution_count": null,
   "metadata": {},
   "outputs": [],
   "source": [
    "print(p_val_df[['p-value for rips vs del-rips', 'p-value for alpha vs del-rips']])"
   ]
  },
  {
   "cell_type": "markdown",
   "metadata": {},
   "source": [
    "## Conclusion\n",
    "A p-value smaller than 0.2 tells us that there is a significant difference between the medians for the corresponding performance metrics between the two filtration-functions-based classification models. The p-value for the aps metric for rips vs del-rips classifiers is the only one well below 0.2. This means we have sufficient evidence to suggest that the medians of the aps performance metrics for the rips-based classifier and the del-rips-based classifier are significantly different. However for the rest, notice that the p-values in table above are well above 0.2. This suggests that we cannot conclude the medians for each metric are not the same for our classification task using Delaunay-Rips or one of the other methods. **Hence, when looking at any of the performance metrics that interest us (except for aps), training a classifier using statistics generated using the Delaunay-Rips complex will perform satisfyingly as good as using either Rips or Alpha as the underlying method for persistent homology.**\n",
    "\n",
    "Based on this project, we make the following suggestion. \n",
    "\n",
    "A data analyst would benefit from making use of the Delaunay-Rips Complex in their data analysis application when\n",
    "1. Topological features of the dataset are of high interest\n",
    "2. Computation time is an essential resource \n",
    "3. Dimension of the input data is not too high/low (between 3 and 8)\n",
    "4. Average Precision Score (APS) of an ML model is not crucially important"
   ]
  }
 ],
 "metadata": {
  "kernelspec": {
   "display_name": "Python 3 (ipykernel)",
   "language": "python",
   "name": "python3"
  },
  "language_info": {
   "codemirror_mode": {
    "name": "ipython",
    "version": 3
   },
   "file_extension": ".py",
   "mimetype": "text/x-python",
   "name": "python",
   "nbconvert_exporter": "python",
   "pygments_lexer": "ipython3",
   "version": "3.8.5"
  },
  "vscode": {
   "interpreter": {
    "hash": "59b34ea5ac6afe5ddea2c0aee729a2ea4df3ebcb2395253ed6581abc517518d8"
   }
  }
 },
 "nbformat": 4,
 "nbformat_minor": 2
}
